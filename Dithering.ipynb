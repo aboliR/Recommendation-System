{
  "nbformat": 4,
  "nbformat_minor": 0,
  "metadata": {
    "colab": {
      "name": "Dithering.ipynb",
      "provenance": [],
      "collapsed_sections": []
    },
    "kernelspec": {
      "name": "python3",
      "display_name": "Python 3"
    },
    "language_info": {
      "name": "python"
    }
  },
  "cells": [
    {
      "cell_type": "markdown",
      "source": [
        "### **Dithering Sample code using Pandas and Numpy**"
      ],
      "metadata": {
        "id": "SOmiTvQaAnl8"
      }
    },
    {
      "cell_type": "code",
      "source": [
        "import numpy as np\n",
        "import pandas as pd"
      ],
      "metadata": {
        "id": "LZHePKSTLO5q"
      },
      "execution_count": 36,
      "outputs": []
    },
    {
      "cell_type": "code",
      "source": [
        "epsilon = 2.0\n",
        "columns = ['user','scores']\n",
        "data = [('ABC', 2.0), ('XYZ', 3.0), ('PQR', 2.5)]\n",
        "df = pd.DataFrame(data,columns=columns)"
      ],
      "metadata": {
        "id": "4kujmeLjL2h9"
      },
      "execution_count": 39,
      "outputs": []
    },
    {
      "cell_type": "code",
      "source": [
        "def dither_recommendations(recommendations:List[Dict],epsilon:float):\n",
        "  sd = math.sqrt(math.log(epsilon)) if epsilon > 1.0 else 1e-10\n",
        "  distribution = np.random.normal(0, sd, 1000)\n",
        "  recommendations = recommendations.sort_values(by=['user','scores'], ascending=[True,False])\n",
        "  recommendations['ditherscores'] = recommendations['scores'].map(lambda x: math.log(x+1)+np.random.choice(distribution, size=1)[0])\n",
        "  recommendations = recommendations.sort_values(by=['ditherscores'],ascending = True)\n",
        "  return recommendations"
      ],
      "metadata": {
        "id": "yUk1DQbsLO8V"
      },
      "execution_count": 45,
      "outputs": []
    },
    {
      "cell_type": "code",
      "source": [
        "recomm = dither_recommendations(df,epsilon)"
      ],
      "metadata": {
        "id": "ExWIaSbLLO-p"
      },
      "execution_count": 46,
      "outputs": []
    },
    {
      "cell_type": "code",
      "source": [
        "recomm.head()"
      ],
      "metadata": {
        "colab": {
          "base_uri": "https://localhost:8080/",
          "height": 143
        },
        "id": "97W4lGdXO2yp",
        "outputId": "50054051-66e0-4b18-ce28-7c61cef4a34d"
      },
      "execution_count": 47,
      "outputs": [
        {
          "output_type": "execute_result",
          "data": {
            "text/html": [
              "\n",
              "  <div id=\"df-d842b134-01e4-4115-b578-d77f8bdefc1b\">\n",
              "    <div class=\"colab-df-container\">\n",
              "      <div>\n",
              "<style scoped>\n",
              "    .dataframe tbody tr th:only-of-type {\n",
              "        vertical-align: middle;\n",
              "    }\n",
              "\n",
              "    .dataframe tbody tr th {\n",
              "        vertical-align: top;\n",
              "    }\n",
              "\n",
              "    .dataframe thead th {\n",
              "        text-align: right;\n",
              "    }\n",
              "</style>\n",
              "<table border=\"1\" class=\"dataframe\">\n",
              "  <thead>\n",
              "    <tr style=\"text-align: right;\">\n",
              "      <th></th>\n",
              "      <th>user</th>\n",
              "      <th>scores</th>\n",
              "      <th>ditherscores</th>\n",
              "    </tr>\n",
              "  </thead>\n",
              "  <tbody>\n",
              "    <tr>\n",
              "      <th>0</th>\n",
              "      <td>ABC</td>\n",
              "      <td>2.0</td>\n",
              "      <td>0.902694</td>\n",
              "    </tr>\n",
              "    <tr>\n",
              "      <th>1</th>\n",
              "      <td>XYZ</td>\n",
              "      <td>3.0</td>\n",
              "      <td>1.597688</td>\n",
              "    </tr>\n",
              "    <tr>\n",
              "      <th>2</th>\n",
              "      <td>PQR</td>\n",
              "      <td>2.5</td>\n",
              "      <td>3.293422</td>\n",
              "    </tr>\n",
              "  </tbody>\n",
              "</table>\n",
              "</div>\n",
              "      <button class=\"colab-df-convert\" onclick=\"convertToInteractive('df-d842b134-01e4-4115-b578-d77f8bdefc1b')\"\n",
              "              title=\"Convert this dataframe to an interactive table.\"\n",
              "              style=\"display:none;\">\n",
              "        \n",
              "  <svg xmlns=\"http://www.w3.org/2000/svg\" height=\"24px\"viewBox=\"0 0 24 24\"\n",
              "       width=\"24px\">\n",
              "    <path d=\"M0 0h24v24H0V0z\" fill=\"none\"/>\n",
              "    <path d=\"M18.56 5.44l.94 2.06.94-2.06 2.06-.94-2.06-.94-.94-2.06-.94 2.06-2.06.94zm-11 1L8.5 8.5l.94-2.06 2.06-.94-2.06-.94L8.5 2.5l-.94 2.06-2.06.94zm10 10l.94 2.06.94-2.06 2.06-.94-2.06-.94-.94-2.06-.94 2.06-2.06.94z\"/><path d=\"M17.41 7.96l-1.37-1.37c-.4-.4-.92-.59-1.43-.59-.52 0-1.04.2-1.43.59L10.3 9.45l-7.72 7.72c-.78.78-.78 2.05 0 2.83L4 21.41c.39.39.9.59 1.41.59.51 0 1.02-.2 1.41-.59l7.78-7.78 2.81-2.81c.8-.78.8-2.07 0-2.86zM5.41 20L4 18.59l7.72-7.72 1.47 1.35L5.41 20z\"/>\n",
              "  </svg>\n",
              "      </button>\n",
              "      \n",
              "  <style>\n",
              "    .colab-df-container {\n",
              "      display:flex;\n",
              "      flex-wrap:wrap;\n",
              "      gap: 12px;\n",
              "    }\n",
              "\n",
              "    .colab-df-convert {\n",
              "      background-color: #E8F0FE;\n",
              "      border: none;\n",
              "      border-radius: 50%;\n",
              "      cursor: pointer;\n",
              "      display: none;\n",
              "      fill: #1967D2;\n",
              "      height: 32px;\n",
              "      padding: 0 0 0 0;\n",
              "      width: 32px;\n",
              "    }\n",
              "\n",
              "    .colab-df-convert:hover {\n",
              "      background-color: #E2EBFA;\n",
              "      box-shadow: 0px 1px 2px rgba(60, 64, 67, 0.3), 0px 1px 3px 1px rgba(60, 64, 67, 0.15);\n",
              "      fill: #174EA6;\n",
              "    }\n",
              "\n",
              "    [theme=dark] .colab-df-convert {\n",
              "      background-color: #3B4455;\n",
              "      fill: #D2E3FC;\n",
              "    }\n",
              "\n",
              "    [theme=dark] .colab-df-convert:hover {\n",
              "      background-color: #434B5C;\n",
              "      box-shadow: 0px 1px 3px 1px rgba(0, 0, 0, 0.15);\n",
              "      filter: drop-shadow(0px 1px 2px rgba(0, 0, 0, 0.3));\n",
              "      fill: #FFFFFF;\n",
              "    }\n",
              "  </style>\n",
              "\n",
              "      <script>\n",
              "        const buttonEl =\n",
              "          document.querySelector('#df-d842b134-01e4-4115-b578-d77f8bdefc1b button.colab-df-convert');\n",
              "        buttonEl.style.display =\n",
              "          google.colab.kernel.accessAllowed ? 'block' : 'none';\n",
              "\n",
              "        async function convertToInteractive(key) {\n",
              "          const element = document.querySelector('#df-d842b134-01e4-4115-b578-d77f8bdefc1b');\n",
              "          const dataTable =\n",
              "            await google.colab.kernel.invokeFunction('convertToInteractive',\n",
              "                                                     [key], {});\n",
              "          if (!dataTable) return;\n",
              "\n",
              "          const docLinkHtml = 'Like what you see? Visit the ' +\n",
              "            '<a target=\"_blank\" href=https://colab.research.google.com/notebooks/data_table.ipynb>data table notebook</a>'\n",
              "            + ' to learn more about interactive tables.';\n",
              "          element.innerHTML = '';\n",
              "          dataTable['output_type'] = 'display_data';\n",
              "          await google.colab.output.renderOutput(dataTable, element);\n",
              "          const docLink = document.createElement('div');\n",
              "          docLink.innerHTML = docLinkHtml;\n",
              "          element.appendChild(docLink);\n",
              "        }\n",
              "      </script>\n",
              "    </div>\n",
              "  </div>\n",
              "  "
            ],
            "text/plain": [
              "  user  scores  ditherscores\n",
              "0  ABC     2.0      0.902694\n",
              "1  XYZ     3.0      1.597688\n",
              "2  PQR     2.5      3.293422"
            ]
          },
          "metadata": {},
          "execution_count": 47
        }
      ]
    },
    {
      "cell_type": "markdown",
      "source": [
        "### **Dithering implementation using PySpark**"
      ],
      "metadata": {
        "id": "gKwtKk7-BCg1"
      }
    },
    {
      "cell_type": "code",
      "source": [
        "import math\n",
        "from typing import List, Dict\n",
        "from pyspark.sql.functions import col\n",
        "from pyspark.mllib.random import RandomRDDs\n",
        "from pyspark.context import SparkContext\n",
        "from pyspark.sql import SparkSession\n",
        "\n",
        "\n",
        "def dither_recommendation_for_user(recommendations:List[Dict],epsilon:float):\n",
        "  sd = math.sqrt(math.log(epsilon)) if epsilon > 1.0 else 1e-10\n",
        "  distribution = RandomRDDs.logNormalRDD(spark.sparkContext, mean = 0, std=sd,size = 1000, seed=2)\n",
        "  recom = recommendations.rdd.sortBy(lambda x: (x[0],-x[1])).zipWithIndex().map(lambda x: (x[0],math.log(x[1]+1)+distribution.sample))\n",
        "  return recom\n"
      ],
      "metadata": {
        "id": "E0PVmVlUBJwI"
      },
      "execution_count": 48,
      "outputs": []
    },
    {
      "cell_type": "code",
      "source": [
        "epsilon = 2.0\n",
        "columns = ['user','scores']\n",
        "data = [('ABC', 2.0), ('XYZ', 3.0), ('PQR', 2.5)]\n",
        "spark = SparkSession.builder.appName('SparkByExamples.com').getOrCreate()\n",
        "rdd = spark.sparkContext.parallelize(data)\n",
        "recommendations = rdd.toDF(columns)\n",
        "recom = dither_recommendation_for_user(recommendations,epsilon)"
      ],
      "metadata": {
        "id": "P4kU8PVdBJ5_"
      },
      "execution_count": 49,
      "outputs": []
    },
    {
      "cell_type": "code",
      "source": [
        ""
      ],
      "metadata": {
        "id": "QGJ30VofBSS0"
      },
      "execution_count": null,
      "outputs": []
    }
  ]
}